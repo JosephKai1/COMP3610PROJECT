{
 "cells": [
  {
   "cell_type": "code",
   "execution_count": null,
   "id": "6ac6e289",
   "metadata": {},
   "outputs": [],
   "source": [
    "from dash import Dash, dash_table, dcc, callback, Output, Input\n",
    "import pandas as pd\n",
    "import plotly.express as px\n",
    "import dash_mantine_components as dmc\n",
    "from requests import get\n",
    "from dash.dependencies import MATCH, ALL, State\n",
    "from dash.exceptions import PreventUpdate\n",
    "from dash import callback_context\n",
    "from dash import html"
   ]
  },
  {
   "cell_type": "code",
   "execution_count": null,
   "id": "4622215b",
   "metadata": {},
   "outputs": [],
   "source": [
    "df = pd.read_csv(\"C:/Users/kaila/OneDrive/Desktop/COMP3610PROJECT/notebooks/csv's/CPS_Summary.csv\")\n",
    "\n",
    "df.head()"
   ]
  },
  {
   "cell_type": "code",
   "execution_count": null,
   "id": "d8e88f18",
   "metadata": {},
   "outputs": [],
   "source": [
    "app = Dash()\n",
    "\n",
    "app.layout = dmc.MantineProvider(\n",
    "    dmc.Container(\n",
    "        [\n",
    "            dmc.Title(\"Brand per Category Popularity Score\", \n",
    "                      style={\"size\":\"h3\",\"color\": \"blue\", \"textAlign\": \"center\"}), \n",
    "\n",
    "            dmc.Select(\n",
    "                id=\"category-dropdown\",\n",
    "                data=[{\"label\": cat, \"value\": cat} for cat in df[\"category\"].unique()],\n",
    "                placeholder=\"Select a category\",\n",
    "                searchable=True,\n",
    "                clearable=True,\n",
    "            ),\n",
    "\n",
    "            dmc.Space(h=20),\n",
    "\n",
    "            html.Div(id=\"time-series-container\")\n",
    "        ], fluid=True\n",
    "    )\n",
    ")\n",
    "@callback(\n",
    "    Output(component_id=\"time-series-container\", component_property=\"children\"),\n",
    "    Input(component_id=\"category-dropdown\", component_property=\"value\")\n",
    ")\n",
    "def update_time_series(selected_category):\n",
    "    if not selected_category:\n",
    "        return \"Please select a category.\"\n",
    "    \n",
    "    # Filter by selected category\n",
    "    filtered_df = df[df[\"category\"] == selected_category]\n",
    "\n",
    "    # Example: create a \"date\" from year and month for x-axis\n",
    "    filtered_df = filtered_df.copy()\n",
    "    filtered_df[\"date\"] = pd.to_datetime(filtered_df[[\"year\", \"month\"]].assign(day=1))\n",
    "\n",
    "    # Plot using the new 'date' column and some value (e.g., 'BPCPS')\n",
    "    fig = px.line(filtered_df, x=\"date\", y=\"CPS\", \n",
    "                  title=f\"Time Series for Category {selected_category}\")\n",
    "    \n",
    "    return dcc.Graph(figure=fig)\n",
    "\n",
    "if __name__ == \"__main__\":\n",
    "    app.run(debug=True)"
   ]
  },
  {
   "cell_type": "code",
   "execution_count": null,
   "id": "a794974b",
   "metadata": {},
   "outputs": [],
   "source": []
  }
 ],
 "metadata": {
  "kernelspec": {
   "display_name": "Python 3",
   "language": "python",
   "name": "python3"
  },
  "language_info": {
   "codemirror_mode": {
    "name": "ipython",
    "version": 3
   },
   "file_extension": ".py",
   "mimetype": "text/x-python",
   "name": "python",
   "nbconvert_exporter": "python",
   "pygments_lexer": "ipython3",
   "version": "3.13.5"
  }
 },
 "nbformat": 4,
 "nbformat_minor": 5
}
